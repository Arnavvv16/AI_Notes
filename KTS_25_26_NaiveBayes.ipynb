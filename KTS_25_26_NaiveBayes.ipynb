{
  "nbformat": 4,
  "nbformat_minor": 0,
  "metadata": {
    "colab": {
      "provenance": [],
      "collapsed_sections": [
        "usfVPAHfnaxz",
        "VyCVvh_6qGmj"
      ],
      "include_colab_link": true
    },
    "kernelspec": {
      "name": "python3",
      "display_name": "Python 3"
    },
    "language_info": {
      "name": "python"
    }
  },
  "cells": [
    {
      "cell_type": "markdown",
      "metadata": {
        "id": "view-in-github",
        "colab_type": "text"
      },
      "source": [
        "<a href=\"https://colab.research.google.com/github/Arnavvv16/AI_Notes/blob/main/KTS_25_26_NaiveBayes.ipynb\" target=\"_parent\"><img src=\"https://colab.research.google.com/assets/colab-badge.svg\" alt=\"Open In Colab\"/></a>"
      ]
    },
    {
      "cell_type": "markdown",
      "source": [
        "# Multinomial Naive Bayes"
      ],
      "metadata": {
        "id": "usfVPAHfnaxz"
      }
    },
    {
      "cell_type": "markdown",
      "source": [
        "Dataset Used: The 20 Newsgroups dataset is a popular text dataset containing around 20,000 newsgroup posts (i.e., forum messages), organized into 20 topic categories like sports.basketball, sports.football, sci.space and so on. Each post is labelled with its category."
      ],
      "metadata": {
        "id": "OsZP_7xMob14"
      }
    },
    {
      "cell_type": "markdown",
      "source": [
        "Here, we fetch this dataset via sklearn.datasets, documentation:\n",
        "* https://scikit-learn.org/stable/modules/generated/sklearn.datasets.fetch_20newsgroups.html"
      ],
      "metadata": {
        "id": "GvWZIs9Cotti"
      }
    },
    {
      "cell_type": "markdown",
      "source": [
        "1. Import Modules"
      ],
      "metadata": {
        "id": "rMSSeq9doPY2"
      }
    },
    {
      "cell_type": "code",
      "source": [
        "from sklearn.datasets import fetch_20newsgroups #The dataset\n",
        "from sklearn.feature_extraction.text import CountVectorizer #Keeps track of the count of words\n",
        "from sklearn.naive_bayes import MultinomialNB\n",
        "from sklearn.model_selection import train_test_split\n",
        "from sklearn.metrics import classification_report, confusion_matrix"
      ],
      "metadata": {
        "id": "-0hPzr9koQnS"
      },
      "execution_count": null,
      "outputs": []
    },
    {
      "cell_type": "markdown",
      "source": [
        "2. Load the data. We load only space and hoeckey data for this example."
      ],
      "metadata": {
        "id": "rWhiWbaGo6-A"
      }
    },
    {
      "cell_type": "code",
      "source": [
        "categories = ['sci.space', 'rec.sport.hockey']\n",
        "newsgroups = fetch_20newsgroups(subset='all', categories=categories, remove=('headers', 'footers', 'quotes'))\n",
        "\n",
        "texts = newsgroups.data\n",
        "labels = newsgroups.target\n",
        "label_names = newsgroups.target_names  # ['rec.sport.hockey', 'sci.space']"
      ],
      "metadata": {
        "id": "4SuuI47PpIoc"
      },
      "execution_count": null,
      "outputs": []
    },
    {
      "cell_type": "markdown",
      "source": [
        "3. CountVectorizer: It converts a collection of text documents into a matrix of token counts.\n",
        "* It first finds all unique words and creates a vocabulary.\n",
        "* Then for each sentence, it forms a vector with the word count of each word from the vocab that occurs in that sentence.\n",
        "* Concatenates all vectors and outputs a matrix for the train data, consisting of the word counts which gets used by MultinomialNB"
      ],
      "metadata": {
        "id": "tXxN5nF7pLBK"
      }
    },
    {
      "cell_type": "code",
      "source": [
        "#Vectorize text\n",
        "vectorizer = CountVectorizer(stop_words='english')\n",
        "X = vectorizer.fit_transform(texts)\n",
        "\n",
        "#Train/test split\n",
        "X_train, X_test, y_train, y_test, texts_train, texts_test = train_test_split(\n",
        "    X, labels, texts, test_size=0.2, random_state=42\n",
        ")"
      ],
      "metadata": {
        "id": "jNdQ-AdDpsIE"
      },
      "execution_count": null,
      "outputs": []
    },
    {
      "cell_type": "markdown",
      "source": [
        "4. Train and Predict!"
      ],
      "metadata": {
        "id": "c77V4QQNpq7Q"
      }
    },
    {
      "cell_type": "code",
      "source": [
        "#Train Multinomial Naive Bayes\n",
        "model = MultinomialNB()\n",
        "model.fit(X_train, y_train)\n",
        "\n",
        "#Predict on test data\n",
        "y_pred = model.predict(X_test)\n",
        "\n",
        "#Show predictions for a few examples\n",
        "print(\"🔍 Example Predictions:\\n\")\n",
        "for i in range(10):\n",
        "    print(f\"Text #{i + 1}:\")\n",
        "    print(texts_test[i][:300].replace(\"\\n\", \" \") + \"...\")\n",
        "    print(f\"Actual label:    {label_names[y_test[i]]}\")\n",
        "    print(f\"Predicted label: {label_names[y_pred[i]]}\")\n",
        "    print(\"-\" * 80)\n",
        "\n",
        "# 7. Overall metrics\n",
        "print(\"\\n📊 Confusion Matrix:\")\n",
        "print(confusion_matrix(y_test, y_pred))\n",
        "\n",
        "print(\"\\n📈 Classification Report:\")\n",
        "print(classification_report(y_test, y_pred, target_names=label_names))\n"
      ],
      "metadata": {
        "colab": {
          "base_uri": "https://localhost:8080/"
        },
        "id": "wqIqvpgenppS",
        "outputId": "1d6bdc53-e653-4ae3-c857-75e8a06364e4"
      },
      "execution_count": null,
      "outputs": [
        {
          "output_type": "stream",
          "name": "stdout",
          "text": [
            "🔍 Example Predictions:\n",
            "\n",
            "Text #1:\n",
            " Major league baseball has told the Blue Jays and the Expos not to sign Oscar Linares (I think that is his name) ...Canada does not have the restrictions against Cubans that the US has and other major league teams have told the Canadian teams that they would be very unhappy if the Expos or the Blue ...\n",
            "Actual label:    rec.sport.hockey\n",
            "Predicted label: rec.sport.hockey\n",
            "--------------------------------------------------------------------------------\n",
            "Text #2:\n",
            "                           ^^          Funny you should mention it...this is exactly the case I was going to make.   I will grant that a star like Mario will draw fans, even if the team sucks.  But this is short term only; I still do not think the attendance increase  will last, unless the team is a...\n",
            "Actual label:    rec.sport.hockey\n",
            "Predicted label: rec.sport.hockey\n",
            "--------------------------------------------------------------------------------\n",
            "Text #3:\n",
            "  Kerry-- I'm guessing a little at this, because it's been a few years  since I saw the info, but you will probably want to look at Air Defense  Artillery as a specialty, or possibly Signals.  The kind of thing you're  looking for is SDI-type assignments, but it'll be pretty prosaic stuff. Things li...\n",
            "Actual label:    sci.space\n",
            "Predicted label: sci.space\n",
            "--------------------------------------------------------------------------------\n",
            "Text #4:\n",
            "At one time there was speculation that the first spacewalk  (Alexei Leonov ?) was a staged fake.  Has any evidence to support or contradict this claim emerged ?  Was this claim perhaps another fevered Cold War hallucination ? ...\n",
            "Actual label:    sci.space\n",
            "Predicted label: sci.space\n",
            "--------------------------------------------------------------------------------\n",
            "Text #5:\n",
            "  Sorry to disappoint you but the Red Wings earned the victory...easily.  I watched most of the game on ESPN (as soon as I realized that they were televising the game which was at the beginning of the second). The Maple Leafs were flat.  Very flat.  Meanwhile, the Red Wings were skating very freely ...\n",
            "Actual label:    rec.sport.hockey\n",
            "Predicted label: rec.sport.hockey\n",
            "--------------------------------------------------------------------------------\n",
            "Text #6:\n",
            "       I too am of the same  sentiment Bart, but realistically, this town DOESN'T WANT TO pay for  quality player and hence we are loosing these people left, right and center. Labour is also responsible for their boycott Pocklington movement. I would like the Oilers to stay, but realistically, given...\n",
            "Actual label:    rec.sport.hockey\n",
            "Predicted label: rec.sport.hockey\n",
            "--------------------------------------------------------------------------------\n",
            "Text #7:\n",
            "                       ^^^^^^^ Ooops...that should read Selke...forgive me for my insolence.   congenially, as always,   jd   --  James David  j3david@student.business.uwo.ca...\n",
            "Actual label:    rec.sport.hockey\n",
            "Predicted label: rec.sport.hockey\n",
            "--------------------------------------------------------------------------------\n",
            "Text #8:\n",
            "You should be ashamed to call yourself an Ulf Samuelson fan. Anybody who plays the way he does, does not belong in the NHL. There have been cheap shot artists through the history of the game, but a lot of them have been talanted players. Bobby Clarke, Kenny Linsemen, Pie McKenzie, Chris Chelios etc....\n",
            "Actual label:    rec.sport.hockey\n",
            "Predicted label: rec.sport.hockey\n",
            "--------------------------------------------------------------------------------\n",
            "Text #9:\n",
            " Do you notice that _nobody_ on the team is willing to take charge? A dominant defenceman would be nice....too bad Schneider got hurt. He reminds me of Chris Chelios sometimes.  Speaking of Chelios, I  wonder if Serge Savard feels like a moron for making that trade. I also wish we still had Corson. ...\n",
            "Actual label:    rec.sport.hockey\n",
            "Predicted label: rec.sport.hockey\n",
            "--------------------------------------------------------------------------------\n",
            "Text #10:\n",
            "   \tThey did the rollout already??!?  I am going to have to pay more attention to the news.  Are any of the gifs headed for wuarchive??    Patrick  ...\n",
            "Actual label:    sci.space\n",
            "Predicted label: rec.sport.hockey\n",
            "--------------------------------------------------------------------------------\n",
            "\n",
            "📊 Confusion Matrix:\n",
            "[[193   9]\n",
            " [ 10 186]]\n",
            "\n",
            "📈 Classification Report:\n",
            "                  precision    recall  f1-score   support\n",
            "\n",
            "rec.sport.hockey       0.95      0.96      0.95       202\n",
            "       sci.space       0.95      0.95      0.95       196\n",
            "\n",
            "        accuracy                           0.95       398\n",
            "       macro avg       0.95      0.95      0.95       398\n",
            "    weighted avg       0.95      0.95      0.95       398\n",
            "\n"
          ]
        }
      ]
    },
    {
      "cell_type": "markdown",
      "source": [
        " # Gaussian Naive Bayes"
      ],
      "metadata": {
        "id": "VyCVvh_6qGmj"
      }
    },
    {
      "cell_type": "code",
      "source": [
        "import numpy as np\n",
        "from sklearn.datasets import load_iris\n",
        "from sklearn.model_selection import train_test_split\n",
        "from sklearn.naive_bayes import GaussianNB\n",
        "from sklearn.metrics import accuracy_score\n",
        "\n",
        "# Iris dataset contains measurments from the flowers Setosa, Versicolour, and Virginica\n",
        "# The measurements are sepal length, sepal width, petal length and petal width\n",
        "# 0 - setosa\n",
        "# 1 - versicolor\n",
        "# 2 - virginica\n",
        "\n",
        "# Load dataset\n",
        "iris = load_iris()\n",
        "X, y = iris.data, iris.target\n",
        "\n",
        "# Split data into training and testing sets\n",
        "X_train, X_test, y_train, y_test = train_test_split(X, y, test_size=0.3, random_state=42)\n",
        "\n",
        "# Create and train Gaussian Naive Bayes model\n",
        "model = GaussianNB()\n",
        "model.fit(X_train, y_train)\n",
        "\n",
        "# Make predictions\n",
        "y_pred = model.predict(X_test)\n",
        "\n",
        "# Evaluate the model\n",
        "accuracy = accuracy_score(y_test, y_pred)\n",
        "print(f'Accuracy: {accuracy:.4f}')\n",
        "\n",
        "#To predict on new data\n",
        "new_data = [[5.1, 3.5, 1.4, 0.2], [6.7, 3.1, 4.7, 1.5]]\n",
        "predictions = model.predict(new_data)\n",
        "print(\"\\nPredictions:\", predictions)"
      ],
      "metadata": {
        "colab": {
          "base_uri": "https://localhost:8080/"
        },
        "id": "Ybg201K2qIIx",
        "outputId": "1c0ebb7d-6190-4d94-de96-d458e5304589"
      },
      "execution_count": null,
      "outputs": [
        {
          "output_type": "stream",
          "name": "stdout",
          "text": [
            "Accuracy: 0.9778\n",
            "\n",
            "Predictions: [0 1]\n"
          ]
        }
      ]
    }
  ]
}